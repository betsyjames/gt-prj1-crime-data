{
 "cells": [
  {
   "cell_type": "code",
   "execution_count": 1,
   "metadata": {},
   "outputs": [],
   "source": [
    "import pandas as pd\n",
    "import matplotlib.pyplot as plt\n",
    "import seaborn as sns\n",
    "import numpy as np\n",
    "import requests\n",
    "import time\n",
    "from scipy.stats import linregress\n",
    "\n",
    "#from api_keys import api_key\n",
    "from citipy import citipy"
   ]
  },
  {
   "cell_type": "code",
   "execution_count": null,
   "metadata": {},
   "outputs": [],
   "source": []
  },
  {
   "cell_type": "code",
   "execution_count": 2,
   "metadata": {},
   "outputs": [
    {
     "name": "stderr",
     "output_type": "stream",
     "text": [
      "C:\\Users\\kliu3\\Anaconda3\\lib\\site-packages\\IPython\\core\\interactiveshell.py:3146: DtypeWarning: Columns (2) have mixed types.Specify dtype option on import or set low_memory=False.\n",
      "  has_raised = await self.run_ast_nodes(code_ast.body, cell_name,\n"
     ]
    },
    {
     "data": {
      "text/html": [
       "<div>\n",
       "<style scoped>\n",
       "    .dataframe tbody tr th:only-of-type {\n",
       "        vertical-align: middle;\n",
       "    }\n",
       "\n",
       "    .dataframe tbody tr th {\n",
       "        vertical-align: top;\n",
       "    }\n",
       "\n",
       "    .dataframe thead th {\n",
       "        text-align: right;\n",
       "    }\n",
       "</style>\n",
       "<table border=\"1\" class=\"dataframe\">\n",
       "  <thead>\n",
       "    <tr style=\"text-align: right;\">\n",
       "      <th></th>\n",
       "      <th>offense_id</th>\n",
       "      <th>occur_date</th>\n",
       "      <th>occur_time</th>\n",
       "      <th>location</th>\n",
       "      <th>UC2_Literal</th>\n",
       "      <th>neighborhood</th>\n",
       "      <th>lat</th>\n",
       "      <th>long</th>\n",
       "      <th>occur_year</th>\n",
       "      <th>occur_month</th>\n",
       "    </tr>\n",
       "  </thead>\n",
       "  <tbody>\n",
       "    <tr>\n",
       "      <th>0</th>\n",
       "      <td>193651657</td>\n",
       "      <td>12/31/2019</td>\n",
       "      <td>1458</td>\n",
       "      <td>1388 LA FRANCE ST NE</td>\n",
       "      <td>LARCENY-NON VEHICLE</td>\n",
       "      <td>Edgewood</td>\n",
       "      <td>33.76053</td>\n",
       "      <td>-84.34220</td>\n",
       "      <td>2019</td>\n",
       "      <td>12</td>\n",
       "    </tr>\n",
       "    <tr>\n",
       "      <th>1</th>\n",
       "      <td>193651031</td>\n",
       "      <td>12/31/2019</td>\n",
       "      <td>1300</td>\n",
       "      <td>443 MORELAND AVE SE</td>\n",
       "      <td>LARCENY-NON VEHICLE</td>\n",
       "      <td>Ormewood Park</td>\n",
       "      <td>33.74179</td>\n",
       "      <td>-84.34973</td>\n",
       "      <td>2019</td>\n",
       "      <td>12</td>\n",
       "    </tr>\n",
       "    <tr>\n",
       "      <th>2</th>\n",
       "      <td>193650870</td>\n",
       "      <td>12/31/2019</td>\n",
       "      <td>1200</td>\n",
       "      <td>2711 METROPOLITAN PKWY SW</td>\n",
       "      <td>LARCENY-NON VEHICLE</td>\n",
       "      <td>Hammond Park</td>\n",
       "      <td>33.68092</td>\n",
       "      <td>-84.40814</td>\n",
       "      <td>2019</td>\n",
       "      <td>12</td>\n",
       "    </tr>\n",
       "    <tr>\n",
       "      <th>3</th>\n",
       "      <td>193651019</td>\n",
       "      <td>12/31/2019</td>\n",
       "      <td>1300</td>\n",
       "      <td>969 MARIETTA ST NW</td>\n",
       "      <td>LARCENY-NON VEHICLE</td>\n",
       "      <td>Marietta Street Artery</td>\n",
       "      <td>33.77828</td>\n",
       "      <td>-84.40910</td>\n",
       "      <td>2019</td>\n",
       "      <td>12</td>\n",
       "    </tr>\n",
       "    <tr>\n",
       "      <th>4</th>\n",
       "      <td>193651039</td>\n",
       "      <td>12/31/2019</td>\n",
       "      <td>1300</td>\n",
       "      <td>3070 BOLLING WAY NE</td>\n",
       "      <td>LARCENY-NON VEHICLE</td>\n",
       "      <td>Buckhead Village</td>\n",
       "      <td>33.83888</td>\n",
       "      <td>-84.37995</td>\n",
       "      <td>2019</td>\n",
       "      <td>12</td>\n",
       "    </tr>\n",
       "  </tbody>\n",
       "</table>\n",
       "</div>"
      ],
      "text/plain": [
       "   offense_id  occur_date occur_time                   location  \\\n",
       "0   193651657  12/31/2019       1458       1388 LA FRANCE ST NE   \n",
       "1   193651031  12/31/2019       1300        443 MORELAND AVE SE   \n",
       "2   193650870  12/31/2019       1200  2711 METROPOLITAN PKWY SW   \n",
       "3   193651019  12/31/2019       1300         969 MARIETTA ST NW   \n",
       "4   193651039  12/31/2019       1300        3070 BOLLING WAY NE   \n",
       "\n",
       "           UC2_Literal            neighborhood       lat      long  \\\n",
       "0  LARCENY-NON VEHICLE                Edgewood  33.76053 -84.34220   \n",
       "1  LARCENY-NON VEHICLE           Ormewood Park  33.74179 -84.34973   \n",
       "2  LARCENY-NON VEHICLE            Hammond Park  33.68092 -84.40814   \n",
       "3  LARCENY-NON VEHICLE  Marietta Street Artery  33.77828 -84.40910   \n",
       "4  LARCENY-NON VEHICLE        Buckhead Village  33.83888 -84.37995   \n",
       "\n",
       "   occur_year  occur_month  \n",
       "0        2019           12  \n",
       "1        2019           12  \n",
       "2        2019           12  \n",
       "3        2019           12  \n",
       "4        2019           12  "
      ]
     },
     "execution_count": 2,
     "metadata": {},
     "output_type": "execute_result"
    }
   ],
   "source": [
    "csvpath = \"../gt-prj1-crime-data/crime_09_20_clean_dupsdeleted.csv\"\n",
    "csvfile = pd.read_csv(csvpath,encoding=\"utf-8\")\n",
    "crime_df = pd.DataFrame(csvfile)\n",
    "crime_df.head()"
   ]
  },
  {
   "cell_type": "code",
   "execution_count": 3,
   "metadata": {},
   "outputs": [
    {
     "data": {
      "text/plain": [
       "occur_year\n",
       "2009    39297\n",
       "2010    35501\n",
       "2011    34833\n",
       "2012    33370\n",
       "2013    32389\n",
       "2014    31104\n",
       "2015    30046\n",
       "2016    28986\n",
       "2017    26373\n",
       "2018    25606\n",
       "2019    24842\n",
       "2020    21901\n",
       "Name: UC2_Literal, dtype: int64"
      ]
     },
     "execution_count": 3,
     "metadata": {},
     "output_type": "execute_result"
    }
   ],
   "source": [
    "crime_years_df=crime_df.groupby([\"occur_year\"])\n",
    "crime_byyear=crime_years_df['UC2_Literal'].count()\n",
    "crime_byyear"
   ]
  },
  {
   "cell_type": "code",
   "execution_count": 21,
   "metadata": {},
   "outputs": [
    {
     "data": {
      "image/png": "[encoded data removed]",
      "text/plain": [
       "<Figure size 720x216 with 1 Axes>"
      ]
     },
     "metadata": {
      "needs_background": "light"
     },
     "output_type": "display_data"
    },
    {
     "data": {
      "text/plain": [
       "<Figure size 432x288 with 0 Axes>"
      ]
     },
     "metadata": {},
     "output_type": "display_data"
    }
   ],
   "source": [
    "crime_byyear_chart = crime_byyear.plot(kind='bar',figsize=(10,3), title=(\"Number of Crimes by Year\"))\n",
    "\n",
    "# Set the xlabel and ylabel using class methods\n",
    "crime_byyear_chart.set_xlabel(\"occur_year\")\n",
    "crime_byyear_chart.set_ylabel(\"Number of Crimes\")\n",
    "\n",
    "\n",
    "plt.show()\n",
    "plt.tight_layout()"
   ]
  },
  {
   "cell_type": "code",
   "execution_count": 24,
   "metadata": {},
   "outputs": [
    {
     "data": {
      "image/png": "[encoded data removed]",
      "text/plain": [
       "<Figure size 576x216 with 1 Axes>"
      ]
     },
     "metadata": {
      "needs_background": "light"
     },
     "output_type": "display_data"
    },
    {
     "data": {
      "text/plain": [
       "<Figure size 432x288 with 0 Axes>"
      ]
     },
     "metadata": {},
     "output_type": "display_data"
    }
   ],
   "source": [
    "crime_Y18_Y20_chart = crime_byyear.iloc[9:12].plot(kind='bar',figsize=(8,3), title=(\"Number of Crimes from 2018 to 2020\"))\n",
    "\n",
    "# Set the xlabel and ylabel using class methods\n",
    "crime_Y18_Y20_chart.set_xlabel(\"occur_year\")\n",
    "crime_Y18_Y20_chart.set_ylabel(\"Number of Crimes\")\n",
    "\n",
    "plt.ylim(0, 30000)\n",
    "\n",
    "plt.show()\n",
    "plt.tight_layout()"
   ]
  },
  {
   "cell_type": "code",
   "execution_count": 25,
   "metadata": {},
   "outputs": [
    {
     "data": {
      "text/plain": [
       "occur_year  occur_month\n",
       "2009        1              3431\n",
       "            2              2635\n",
       "            3              3026\n",
       "            4              3062\n",
       "            5              3426\n",
       "                           ... \n",
       "2020        8              1802\n",
       "            9              1622\n",
       "            10             2314\n",
       "            11             2430\n",
       "            12             2467\n",
       "Name: UC2_Literal, Length: 144, dtype: int64"
      ]
     },
     "execution_count": 25,
     "metadata": {},
     "output_type": "execute_result"
    }
   ],
   "source": [
    "crime_yearmonth_df=crime_df.groupby([\"occur_year\",\"occur_month\"])\n",
    "crime_byyearmonth=crime_yearmonth_df['UC2_Literal'].count()\n",
    "crime_byyearmonth"
   ]
  },
  {
   "cell_type": "code",
   "execution_count": 41,
   "metadata": {},
   "outputs": [
    {
     "data": {
      "text/html": [
       "<div>\n",
       "<style scoped>\n",
       "    .dataframe tbody tr th:only-of-type {\n",
       "        vertical-align: middle;\n",
       "    }\n",
       "\n",
       "    .dataframe tbody tr th {\n",
       "        vertical-align: top;\n",
       "    }\n",
       "\n",
       "    .dataframe thead th {\n",
       "        text-align: right;\n",
       "    }\n",
       "</style>\n",
       "<table border=\"1\" class=\"dataframe\">\n",
       "  <thead>\n",
       "    <tr style=\"text-align: right;\">\n",
       "      <th></th>\n",
       "      <th>occur_year</th>\n",
       "      <th>occur_month</th>\n",
       "      <th>crimes</th>\n",
       "    </tr>\n",
       "  </thead>\n",
       "  <tbody>\n",
       "    <tr>\n",
       "      <th>0</th>\n",
       "      <td>2018</td>\n",
       "      <td>1</td>\n",
       "      <td>2008</td>\n",
       "    </tr>\n",
       "    <tr>\n",
       "      <th>1</th>\n",
       "      <td>2018</td>\n",
       "      <td>2</td>\n",
       "      <td>1938</td>\n",
       "    </tr>\n",
       "    <tr>\n",
       "      <th>2</th>\n",
       "      <td>2018</td>\n",
       "      <td>3</td>\n",
       "      <td>1865</td>\n",
       "    </tr>\n",
       "    <tr>\n",
       "      <th>3</th>\n",
       "      <td>2018</td>\n",
       "      <td>4</td>\n",
       "      <td>1971</td>\n",
       "    </tr>\n",
       "    <tr>\n",
       "      <th>4</th>\n",
       "      <td>2018</td>\n",
       "      <td>5</td>\n",
       "      <td>2263</td>\n",
       "    </tr>\n",
       "  </tbody>\n",
       "</table>\n",
       "</div>"
      ],
      "text/plain": [
       "   occur_year  occur_month  crimes\n",
       "0        2018            1    2008\n",
       "1        2018            2    1938\n",
       "2        2018            3    1865\n",
       "3        2018            4    1971\n",
       "4        2018            5    2263"
      ]
     },
     "execution_count": 41,
     "metadata": {},
     "output_type": "execute_result"
    }
   ],
   "source": [
    "three_year_month_crime = crime_byyearmonth.loc[2018:2020, :]\n",
    "three_year_month_crime = three_year_month_crime.reset_index()\n",
    "three_yearmonth_crime=three_year_month_crime.rename(columns={\"UC2_Literal\":\"crimes\"})\n",
    "three_yearmonth_crime.head()"
   ]
  },
  {
   "cell_type": "code",
   "execution_count": 46,
   "metadata": {},
   "outputs": [
    {
     "name": "stdout",
     "output_type": "stream",
     "text": [
      "36\n"
     ]
    },
    {
     "data": {
      "image/png": "[encoded data removed]",
      "text/plain": [
       "<Figure size 432x288 with 1 Axes>"
      ]
     },
     "metadata": {
      "needs_background": "light"
     },
     "output_type": "display_data"
    }
   ],
   "source": [
    "years=three_year_month_crime[\"occur_year\"]\n",
    "months=three_year_month_crime[\"occur_month\"]\n",
    "print(len(months))\n",
    "crimes_2018, = plt.plot(months[0:12],three_yearmonth_crime['crimes'].iloc[0:12], color=\"blue\", label=\"2018 crimes\")\n",
    "crimes_2019, = plt.plot(months[12:24], three_yearmonth_crime['crimes'].iloc[12:24], color=\"red\", label=\"2019 crimes\")\n",
    "crimes_2020, = plt.plot(months[25:36], three_yearmonth_crime['crimes'].iloc[25:36], color=\"green\", label=\"2020 crimes\")\n",
    "plt.legend(handles=[crimes_2018, crimes_2019,crimes_2020], loc=\"best\")\n",
    "\n",
    "three_year_month_crime.set_xlabel(\"occur_month\")\n",
    "plt.show()"
   ]
  },
  {
   "cell_type": "code",
   "execution_count": null,
   "metadata": {},
   "outputs": [],
   "source": [
    "years=three_year_month_crime[\"occur_year\"]\n",
    "months=three_year_month_crime[\"occur_month\"]\n",
    "2018_crimes, = plt.plot(months, crimes.iloc[0:13], color=\"blue\", label=\"2018 crimes\" )\n",
    "\n",
    "# Plot the unemployment values for a single country\n",
    "country_one, = plt.plot(years, combined_unemployed_data.loc['USA',[\"2010\",\"2011\",\"2012\",\"2013\",\"2014\"]], \n",
    "                        color=\"green\",label=combined_unemployed_data.loc['USA',\"Country Name\"])\n",
    "\n",
    "# Create a legend for our chart\n",
    "plt.legend(handles=[months, country_one], loc=\"best\")\n",
    "\n",
    "# Show the chart\n",
    "plt.show()"
   ]
  },
  {
   "cell_type": "code",
   "execution_count": 14,
   "metadata": {
    "scrolled": true
   },
   "outputs": [
    {
     "data": {
      "text/html": [
       "<div>\n",
       "<style scoped>\n",
       "    .dataframe tbody tr th:only-of-type {\n",
       "        vertical-align: middle;\n",
       "    }\n",
       "\n",
       "    .dataframe tbody tr th {\n",
       "        vertical-align: top;\n",
       "    }\n",
       "\n",
       "    .dataframe thead th {\n",
       "        text-align: right;\n",
       "    }\n",
       "</style>\n",
       "<table border=\"1\" class=\"dataframe\">\n",
       "  <thead>\n",
       "    <tr style=\"text-align: right;\">\n",
       "      <th></th>\n",
       "      <th>offense_id</th>\n",
       "      <th>occur_date</th>\n",
       "      <th>occur_time</th>\n",
       "      <th>location</th>\n",
       "      <th>UC2_Literal</th>\n",
       "      <th>neighborhood</th>\n",
       "      <th>lat</th>\n",
       "      <th>long</th>\n",
       "      <th>occur_year</th>\n",
       "      <th>occur_month</th>\n",
       "      <th>Seasons</th>\n",
       "    </tr>\n",
       "  </thead>\n",
       "  <tbody>\n",
       "    <tr>\n",
       "      <th>0</th>\n",
       "      <td>193651657</td>\n",
       "      <td>12/31/2019</td>\n",
       "      <td>1458</td>\n",
       "      <td>1388 LA FRANCE ST NE</td>\n",
       "      <td>LARCENY-NON VEHICLE</td>\n",
       "      <td>Edgewood</td>\n",
       "      <td>33.76053</td>\n",
       "      <td>-84.34220</td>\n",
       "      <td>2019</td>\n",
       "      <td>12</td>\n",
       "      <td>Autumn</td>\n",
       "    </tr>\n",
       "    <tr>\n",
       "      <th>1</th>\n",
       "      <td>193651031</td>\n",
       "      <td>12/31/2019</td>\n",
       "      <td>1300</td>\n",
       "      <td>443 MORELAND AVE SE</td>\n",
       "      <td>LARCENY-NON VEHICLE</td>\n",
       "      <td>Ormewood Park</td>\n",
       "      <td>33.74179</td>\n",
       "      <td>-84.34973</td>\n",
       "      <td>2019</td>\n",
       "      <td>12</td>\n",
       "      <td>Autumn</td>\n",
       "    </tr>\n",
       "    <tr>\n",
       "      <th>2</th>\n",
       "      <td>193650870</td>\n",
       "      <td>12/31/2019</td>\n",
       "      <td>1200</td>\n",
       "      <td>2711 METROPOLITAN PKWY SW</td>\n",
       "      <td>LARCENY-NON VEHICLE</td>\n",
       "      <td>Hammond Park</td>\n",
       "      <td>33.68092</td>\n",
       "      <td>-84.40814</td>\n",
       "      <td>2019</td>\n",
       "      <td>12</td>\n",
       "      <td>Autumn</td>\n",
       "    </tr>\n",
       "    <tr>\n",
       "      <th>3</th>\n",
       "      <td>193651019</td>\n",
       "      <td>12/31/2019</td>\n",
       "      <td>1300</td>\n",
       "      <td>969 MARIETTA ST NW</td>\n",
       "      <td>LARCENY-NON VEHICLE</td>\n",
       "      <td>Marietta Street Artery</td>\n",
       "      <td>33.77828</td>\n",
       "      <td>-84.40910</td>\n",
       "      <td>2019</td>\n",
       "      <td>12</td>\n",
       "      <td>Autumn</td>\n",
       "    </tr>\n",
       "    <tr>\n",
       "      <th>4</th>\n",
       "      <td>193651039</td>\n",
       "      <td>12/31/2019</td>\n",
       "      <td>1300</td>\n",
       "      <td>3070 BOLLING WAY NE</td>\n",
       "      <td>LARCENY-NON VEHICLE</td>\n",
       "      <td>Buckhead Village</td>\n",
       "      <td>33.83888</td>\n",
       "      <td>-84.37995</td>\n",
       "      <td>2019</td>\n",
       "      <td>12</td>\n",
       "      <td>Autumn</td>\n",
       "    </tr>\n",
       "    <tr>\n",
       "      <th>...</th>\n",
       "      <td>...</td>\n",
       "      <td>...</td>\n",
       "      <td>...</td>\n",
       "      <td>...</td>\n",
       "      <td>...</td>\n",
       "      <td>...</td>\n",
       "      <td>...</td>\n",
       "      <td>...</td>\n",
       "      <td>...</td>\n",
       "      <td>...</td>\n",
       "      <td>...</td>\n",
       "    </tr>\n",
       "    <tr>\n",
       "      <th>364243</th>\n",
       "      <td>200011298</td>\n",
       "      <td>1/1/2020</td>\n",
       "      <td>14:45</td>\n",
       "      <td>2630 MARTIN L KING JR DR SW</td>\n",
       "      <td>AUTO THEFT</td>\n",
       "      <td>Harland Terrace</td>\n",
       "      <td>33.75377</td>\n",
       "      <td>-84.47405</td>\n",
       "      <td>2020</td>\n",
       "      <td>1</td>\n",
       "      <td>Winter</td>\n",
       "    </tr>\n",
       "    <tr>\n",
       "      <th>364244</th>\n",
       "      <td>200011823</td>\n",
       "      <td>1/1/2020</td>\n",
       "      <td>20:00</td>\n",
       "      <td>540 HUMPHRIES ST SW</td>\n",
       "      <td>AUTO THEFT</td>\n",
       "      <td>Mechanicsville</td>\n",
       "      <td>33.73990</td>\n",
       "      <td>-84.40488</td>\n",
       "      <td>2020</td>\n",
       "      <td>1</td>\n",
       "      <td>Winter</td>\n",
       "    </tr>\n",
       "    <tr>\n",
       "      <th>364245</th>\n",
       "      <td>200020105</td>\n",
       "      <td>1/1/2020</td>\n",
       "      <td>21:45</td>\n",
       "      <td>1174 EUCLID AVE NE</td>\n",
       "      <td>AUTO THEFT</td>\n",
       "      <td>Inman Park</td>\n",
       "      <td>33.76553</td>\n",
       "      <td>-84.34934</td>\n",
       "      <td>2020</td>\n",
       "      <td>1</td>\n",
       "      <td>Winter</td>\n",
       "    </tr>\n",
       "    <tr>\n",
       "      <th>364246</th>\n",
       "      <td>200020704</td>\n",
       "      <td>1/1/2020</td>\n",
       "      <td>20:00</td>\n",
       "      <td>383 RALPH MCGILL BLVD NE</td>\n",
       "      <td>AUTO THEFT</td>\n",
       "      <td>Old Fourth Ward</td>\n",
       "      <td>33.76391</td>\n",
       "      <td>-84.37489</td>\n",
       "      <td>2020</td>\n",
       "      <td>1</td>\n",
       "      <td>Winter</td>\n",
       "    </tr>\n",
       "    <tr>\n",
       "      <th>364247</th>\n",
       "      <td>201511120</td>\n",
       "      <td>1/1/2020</td>\n",
       "      <td>13:00</td>\n",
       "      <td>144 PONCE DE LEON AVE</td>\n",
       "      <td>AUTO THEFT</td>\n",
       "      <td>Midtown</td>\n",
       "      <td>33.77255</td>\n",
       "      <td>-84.38249</td>\n",
       "      <td>2020</td>\n",
       "      <td>1</td>\n",
       "      <td>Winter</td>\n",
       "    </tr>\n",
       "  </tbody>\n",
       "</table>\n",
       "<p>364248 rows × 11 columns</p>\n",
       "</div>"
      ],
      "text/plain": [
       "        offense_id  occur_date occur_time                     location  \\\n",
       "0        193651657  12/31/2019       1458         1388 LA FRANCE ST NE   \n",
       "1        193651031  12/31/2019       1300          443 MORELAND AVE SE   \n",
       "2        193650870  12/31/2019       1200    2711 METROPOLITAN PKWY SW   \n",
       "3        193651019  12/31/2019       1300           969 MARIETTA ST NW   \n",
       "4        193651039  12/31/2019       1300          3070 BOLLING WAY NE   \n",
       "...            ...         ...        ...                          ...   \n",
       "364243   200011298    1/1/2020      14:45  2630 MARTIN L KING JR DR SW   \n",
       "364244   200011823    1/1/2020      20:00          540 HUMPHRIES ST SW   \n",
       "364245   200020105    1/1/2020      21:45           1174 EUCLID AVE NE   \n",
       "364246   200020704    1/1/2020      20:00     383 RALPH MCGILL BLVD NE   \n",
       "364247   201511120    1/1/2020      13:00        144 PONCE DE LEON AVE   \n",
       "\n",
       "                UC2_Literal            neighborhood       lat      long  \\\n",
       "0       LARCENY-NON VEHICLE                Edgewood  33.76053 -84.34220   \n",
       "1       LARCENY-NON VEHICLE           Ormewood Park  33.74179 -84.34973   \n",
       "2       LARCENY-NON VEHICLE            Hammond Park  33.68092 -84.40814   \n",
       "3       LARCENY-NON VEHICLE  Marietta Street Artery  33.77828 -84.40910   \n",
       "4       LARCENY-NON VEHICLE        Buckhead Village  33.83888 -84.37995   \n",
       "...                     ...                     ...       ...       ...   \n",
       "364243           AUTO THEFT         Harland Terrace  33.75377 -84.47405   \n",
       "364244           AUTO THEFT          Mechanicsville  33.73990 -84.40488   \n",
       "364245           AUTO THEFT              Inman Park  33.76553 -84.34934   \n",
       "364246           AUTO THEFT         Old Fourth Ward  33.76391 -84.37489   \n",
       "364247           AUTO THEFT                 Midtown  33.77255 -84.38249   \n",
       "\n",
       "        occur_year  occur_month Seasons  \n",
       "0             2019           12  Autumn  \n",
       "1             2019           12  Autumn  \n",
       "2             2019           12  Autumn  \n",
       "3             2019           12  Autumn  \n",
       "4             2019           12  Autumn  \n",
       "...            ...          ...     ...  \n",
       "364243        2020            1  Winter  \n",
       "364244        2020            1  Winter  \n",
       "364245        2020            1  Winter  \n",
       "364246        2020            1  Winter  \n",
       "364247        2020            1  Winter  \n",
       "\n",
       "[364248 rows x 11 columns]"
      ]
     },
     "execution_count": 14,
     "metadata": {},
     "output_type": "execute_result"
    }
   ],
   "source": [
    "##  Put the months into bins and made \"Seasons\"\n",
    "bins = [0,3,6,9,12]\n",
    "seasons = [\"Winter\",\"Spring\",\"Summer\",\"Autumn\"]\n",
    "\n",
    "crime_df[\"Seasons\"] = pd.cut(crime_df[\"occur_month\"],bins,labels=seasons,include_lowest=False)\n",
    "crime_df"
   ]
  },
  {
   "cell_type": "code",
   "execution_count": 17,
   "metadata": {},
   "outputs": [
    {
     "data": {
      "text/html": [
       "<div>\n",
       "<style scoped>\n",
       "    .dataframe tbody tr th:only-of-type {\n",
       "        vertical-align: middle;\n",
       "    }\n",
       "\n",
       "    .dataframe tbody tr th {\n",
       "        vertical-align: top;\n",
       "    }\n",
       "\n",
       "    .dataframe thead th {\n",
       "        text-align: right;\n",
       "    }\n",
       "</style>\n",
       "<table border=\"1\" class=\"dataframe\">\n",
       "  <thead>\n",
       "    <tr style=\"text-align: right;\">\n",
       "      <th></th>\n",
       "      <th></th>\n",
       "      <th>offense_id</th>\n",
       "      <th>occur_date</th>\n",
       "      <th>occur_time</th>\n",
       "      <th>location</th>\n",
       "      <th>UC2_Literal</th>\n",
       "      <th>neighborhood</th>\n",
       "      <th>lat</th>\n",
       "      <th>long</th>\n",
       "      <th>occur_month</th>\n",
       "    </tr>\n",
       "    <tr>\n",
       "      <th>occur_year</th>\n",
       "      <th>Seasons</th>\n",
       "      <th></th>\n",
       "      <th></th>\n",
       "      <th></th>\n",
       "      <th></th>\n",
       "      <th></th>\n",
       "      <th></th>\n",
       "      <th></th>\n",
       "      <th></th>\n",
       "      <th></th>\n",
       "    </tr>\n",
       "  </thead>\n",
       "  <tbody>\n",
       "    <tr>\n",
       "      <th rowspan=\"4\" valign=\"top\">2009</th>\n",
       "      <th>Winter</th>\n",
       "      <td>9092</td>\n",
       "      <td>9092</td>\n",
       "      <td>9092</td>\n",
       "      <td>9092</td>\n",
       "      <td>9092</td>\n",
       "      <td>8804</td>\n",
       "      <td>9092</td>\n",
       "      <td>9092</td>\n",
       "      <td>9092</td>\n",
       "    </tr>\n",
       "    <tr>\n",
       "      <th>Spring</th>\n",
       "      <td>10170</td>\n",
       "      <td>10170</td>\n",
       "      <td>10170</td>\n",
       "      <td>10170</td>\n",
       "      <td>10170</td>\n",
       "      <td>9862</td>\n",
       "      <td>10170</td>\n",
       "      <td>10170</td>\n",
       "      <td>10170</td>\n",
       "    </tr>\n",
       "    <tr>\n",
       "      <th>Summer</th>\n",
       "      <td>10138</td>\n",
       "      <td>10138</td>\n",
       "      <td>10138</td>\n",
       "      <td>10138</td>\n",
       "      <td>10138</td>\n",
       "      <td>9775</td>\n",
       "      <td>10138</td>\n",
       "      <td>10138</td>\n",
       "      <td>10138</td>\n",
       "    </tr>\n",
       "    <tr>\n",
       "      <th>Autumn</th>\n",
       "      <td>9897</td>\n",
       "      <td>9897</td>\n",
       "      <td>9897</td>\n",
       "      <td>9897</td>\n",
       "      <td>9897</td>\n",
       "      <td>9559</td>\n",
       "      <td>9897</td>\n",
       "      <td>9897</td>\n",
       "      <td>9897</td>\n",
       "    </tr>\n",
       "    <tr>\n",
       "      <th>2010</th>\n",
       "      <th>Winter</th>\n",
       "      <td>7370</td>\n",
       "      <td>7370</td>\n",
       "      <td>7370</td>\n",
       "      <td>7370</td>\n",
       "      <td>7370</td>\n",
       "      <td>7117</td>\n",
       "      <td>7370</td>\n",
       "      <td>7370</td>\n",
       "      <td>7370</td>\n",
       "    </tr>\n",
       "  </tbody>\n",
       "</table>\n",
       "</div>"
      ],
      "text/plain": [
       "                    offense_id  occur_date  occur_time  location  UC2_Literal  \\\n",
       "occur_year Seasons                                                              \n",
       "2009       Winter         9092        9092        9092      9092         9092   \n",
       "           Spring        10170       10170       10170     10170        10170   \n",
       "           Summer        10138       10138       10138     10138        10138   \n",
       "           Autumn         9897        9897        9897      9897         9897   \n",
       "2010       Winter         7370        7370        7370      7370         7370   \n",
       "\n",
       "                    neighborhood    lat   long  occur_month  \n",
       "occur_year Seasons                                           \n",
       "2009       Winter           8804   9092   9092         9092  \n",
       "           Spring           9862  10170  10170        10170  \n",
       "           Summer           9775  10138  10138        10138  \n",
       "           Autumn           9559   9897   9897         9897  \n",
       "2010       Winter           7117   7370   7370         7370  "
      ]
     },
     "execution_count": 17,
     "metadata": {},
     "output_type": "execute_result"
    }
   ],
   "source": [
    "crime_df_data = crime_df.groupby(['occur_year','Seasons'])\n",
    "crime_df_data.count().head()"
   ]
  },
  {
   "cell_type": "code",
   "execution_count": 16,
   "metadata": {},
   "outputs": [
    {
     "data": {
      "text/plain": [
       "occur_year  Seasons\n",
       "2009        Winter      9092\n",
       "            Spring     10170\n",
       "            Summer     10138\n",
       "            Autumn      9897\n",
       "2010        Winter      7370\n",
       "Name: offense_id, dtype: int64"
      ]
     },
     "execution_count": 16,
     "metadata": {},
     "output_type": "execute_result"
    }
   ],
   "source": [
    "crime_df_data = crime_df.groupby(['occur_year','Seasons'])\n",
    "crime_count_df = crime_df_data['offense_id'].count()\n",
    "crime_count_df.head()"
   ]
  },
  {
   "cell_type": "code",
   "execution_count": 9,
   "metadata": {},
   "outputs": [
    {
     "data": {
      "text/html": [
       "<div>\n",
       "<style scoped>\n",
       "    .dataframe tbody tr th:only-of-type {\n",
       "        vertical-align: middle;\n",
       "    }\n",
       "\n",
       "    .dataframe tbody tr th {\n",
       "        vertical-align: top;\n",
       "    }\n",
       "\n",
       "    .dataframe thead th {\n",
       "        text-align: right;\n",
       "    }\n",
       "</style>\n",
       "<table border=\"1\" class=\"dataframe\">\n",
       "  <thead>\n",
       "    <tr style=\"text-align: right;\">\n",
       "      <th></th>\n",
       "      <th>occur_year</th>\n",
       "      <th>Seasons</th>\n",
       "      <th>offense_id</th>\n",
       "    </tr>\n",
       "  </thead>\n",
       "  <tbody>\n",
       "    <tr>\n",
       "      <th>0</th>\n",
       "      <td>2018</td>\n",
       "      <td>Winter</td>\n",
       "      <td>3946</td>\n",
       "    </tr>\n",
       "    <tr>\n",
       "      <th>1</th>\n",
       "      <td>2018</td>\n",
       "      <td>Spring</td>\n",
       "      <td>6099</td>\n",
       "    </tr>\n",
       "    <tr>\n",
       "      <th>2</th>\n",
       "      <td>2018</td>\n",
       "      <td>Summer</td>\n",
       "      <td>6682</td>\n",
       "    </tr>\n",
       "    <tr>\n",
       "      <th>3</th>\n",
       "      <td>2018</td>\n",
       "      <td>Autumn</td>\n",
       "      <td>6459</td>\n",
       "    </tr>\n",
       "    <tr>\n",
       "      <th>4</th>\n",
       "      <td>2019</td>\n",
       "      <td>Winter</td>\n",
       "      <td>3656</td>\n",
       "    </tr>\n",
       "    <tr>\n",
       "      <th>5</th>\n",
       "      <td>2019</td>\n",
       "      <td>Spring</td>\n",
       "      <td>5800</td>\n",
       "    </tr>\n",
       "    <tr>\n",
       "      <th>6</th>\n",
       "      <td>2019</td>\n",
       "      <td>Summer</td>\n",
       "      <td>6703</td>\n",
       "    </tr>\n",
       "    <tr>\n",
       "      <th>7</th>\n",
       "      <td>2019</td>\n",
       "      <td>Autumn</td>\n",
       "      <td>6485</td>\n",
       "    </tr>\n",
       "    <tr>\n",
       "      <th>8</th>\n",
       "      <td>2020</td>\n",
       "      <td>Winter</td>\n",
       "      <td>3960</td>\n",
       "    </tr>\n",
       "    <tr>\n",
       "      <th>9</th>\n",
       "      <td>2020</td>\n",
       "      <td>Spring</td>\n",
       "      <td>4043</td>\n",
       "    </tr>\n",
       "    <tr>\n",
       "      <th>10</th>\n",
       "      <td>2020</td>\n",
       "      <td>Summer</td>\n",
       "      <td>5065</td>\n",
       "    </tr>\n",
       "    <tr>\n",
       "      <th>11</th>\n",
       "      <td>2020</td>\n",
       "      <td>Autumn</td>\n",
       "      <td>6366</td>\n",
       "    </tr>\n",
       "  </tbody>\n",
       "</table>\n",
       "</div>"
      ],
      "text/plain": [
       "    occur_year Seasons  offense_id\n",
       "0         2018  Winter        3946\n",
       "1         2018  Spring        6099\n",
       "2         2018  Summer        6682\n",
       "3         2018  Autumn        6459\n",
       "4         2019  Winter        3656\n",
       "5         2019  Spring        5800\n",
       "6         2019  Summer        6703\n",
       "7         2019  Autumn        6485\n",
       "8         2020  Winter        3960\n",
       "9         2020  Spring        4043\n",
       "10        2020  Summer        5065\n",
       "11        2020  Autumn        6366"
      ]
     },
     "execution_count": 9,
     "metadata": {},
     "output_type": "execute_result"
    }
   ],
   "source": [
    "three_year_crime_data = crime_count_df.loc[2018:2020, :]\n",
    "three_year_crime_data = three_year_crime_data.reset_index()\n",
    "three_year_crime_data"
   ]
  },
  {
   "cell_type": "code",
   "execution_count": 10,
   "metadata": {},
   "outputs": [
    {
     "data": {
      "text/plain": [
       "<AxesSubplot:xlabel='occur_year', ylabel='offense_id'>"
      ]
     },
     "execution_count": 10,
     "metadata": {},
     "output_type": "execute_result"
    },
    {
     "data": {
      "image/png": "[encoded data removed]",
      "text/plain": [
       "<Figure size 432x288 with 1 Axes>"
      ]
     },
     "metadata": {
      "needs_background": "light"
     },
     "output_type": "display_data"
    }
   ],
   "source": [
    "sns.barplot(x = 'occur_year', y = 'offense_id', hue = 'Seasons', data = three_year_crime_data)"
   ]
  },
  {
   "cell_type": "code",
   "execution_count": 47,
   "metadata": {},
   "outputs": [
    {
     "name": "stdout",
     "output_type": "stream",
     "text": [
      "/c/Users/kliu3/Desktop/personal_dashclass/gt-prj1-crime-data\n"
     ]
    }
   ],
   "source": [
    "!pwd"
   ]
  },
  {
   "cell_type": "code",
   "execution_count": null,
   "metadata": {},
   "outputs": [],
   "source": []
  }
 ],
 "metadata": {
  "kernelspec": {
   "display_name": "Python 3",
   "language": "python",
   "name": "python3"
  },
  "language_info": {
   "codemirror_mode": {
    "name": "ipython",
    "version": 3
   },
   "file_extension": ".py",
   "mimetype": "text/x-python",
   "name": "python",
   "nbconvert_exporter": "python",
   "pygments_lexer": "ipython3",
   "version": "3.8.5"
  }
 },
 "nbformat": 4,
 "nbformat_minor": 4
}
